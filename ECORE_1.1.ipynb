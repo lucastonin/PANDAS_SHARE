{
 "cells": [
  {
   "cell_type": "code",
   "execution_count": 6,
   "id": "bfd06c27",
   "metadata": {},
   "outputs": [],
   "source": [
    "#Importação da biblioteca Pandas como 'pd' para utilização otimizada no código;\n",
    "import pandas as pd"
   ]
  },
  {
   "cell_type": "code",
   "execution_count": 11,
   "id": "fafbb91e",
   "metadata": {},
   "outputs": [],
   "source": [
    "#Leitura CSV \n",
    "df = pd.read_csv('movies_ecore.csv', delimiter = ';',names = ['Number', 'Movie'],) \n",
    "df = df.set_index('Number')\n"
   ]
  },
  {
   "cell_type": "code",
   "execution_count": 12,
   "id": "e627a587",
   "metadata": {},
   "outputs": [
    {
     "name": "stdout",
     "output_type": "stream",
     "text": [
      "O dataset possui 4499 filmes\n"
     ]
    }
   ],
   "source": [
    "#função que mostra número de filmes no data set\n",
    "a = len(df) \n",
    "print(f'O dataset possui {a} filmes')"
   ]
  },
  {
   "cell_type": "code",
   "execution_count": null,
   "id": "2fbc92e9",
   "metadata": {},
   "outputs": [],
   "source": []
  }
 ],
 "metadata": {
  "kernelspec": {
   "display_name": "Python 3 (ipykernel)",
   "language": "python",
   "name": "python3"
  },
  "language_info": {
   "codemirror_mode": {
    "name": "ipython",
    "version": 3
   },
   "file_extension": ".py",
   "mimetype": "text/x-python",
   "name": "python",
   "nbconvert_exporter": "python",
   "pygments_lexer": "ipython3",
   "version": "3.10.4"
  }
 },
 "nbformat": 4,
 "nbformat_minor": 5
}
