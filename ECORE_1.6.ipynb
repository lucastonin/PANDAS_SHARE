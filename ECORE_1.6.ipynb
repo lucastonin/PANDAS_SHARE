{
 "cells": [
  {
   "cell_type": "code",
   "execution_count": 1,
   "id": "e15b5f0b",
   "metadata": {},
   "outputs": [],
   "source": [
    "#Importação da biblioteca Pandas como 'pd' para utilização otimizada no código;\n",
    "import pandas as pd"
   ]
  },
  {
   "cell_type": "code",
   "execution_count": 12,
   "id": "53066c10",
   "metadata": {},
   "outputs": [
    {
     "name": "stdout",
     "output_type": "stream",
     "text": [
      "Abaixo a tabela que mostra os Ids dos 5 principais avaliadores da lista (Cust_Id),\n",
      "e a quantidade de avaliações realizadas por cada avaliador (Nº of Reviews)\n"
     ]
    },
    {
     "data": {
      "text/html": [
       "<div>\n",
       "<style scoped>\n",
       "    .dataframe tbody tr th:only-of-type {\n",
       "        vertical-align: middle;\n",
       "    }\n",
       "\n",
       "    .dataframe tbody tr th {\n",
       "        vertical-align: top;\n",
       "    }\n",
       "\n",
       "    .dataframe thead th {\n",
       "        text-align: right;\n",
       "    }\n",
       "</style>\n",
       "<table border=\"1\" class=\"dataframe\">\n",
       "  <thead>\n",
       "    <tr style=\"text-align: right;\">\n",
       "      <th></th>\n",
       "      <th>Nº of Reviews</th>\n",
       "    </tr>\n",
       "    <tr>\n",
       "      <th>Cust_Id</th>\n",
       "      <th></th>\n",
       "    </tr>\n",
       "  </thead>\n",
       "  <tbody>\n",
       "    <tr>\n",
       "      <th>305344</th>\n",
       "      <td>4467</td>\n",
       "    </tr>\n",
       "    <tr>\n",
       "      <th>387418</th>\n",
       "      <td>4422</td>\n",
       "    </tr>\n",
       "    <tr>\n",
       "      <th>2439493</th>\n",
       "      <td>4195</td>\n",
       "    </tr>\n",
       "    <tr>\n",
       "      <th>1664010</th>\n",
       "      <td>4019</td>\n",
       "    </tr>\n",
       "    <tr>\n",
       "      <th>2118461</th>\n",
       "      <td>3769</td>\n",
       "    </tr>\n",
       "  </tbody>\n",
       "</table>\n",
       "</div>"
      ],
      "text/plain": [
       "         Nº of Reviews\n",
       "Cust_Id               \n",
       "305344            4467\n",
       "387418            4422\n",
       "2439493           4195\n",
       "1664010           4019\n",
       "2118461           3769"
      ]
     },
     "execution_count": 12,
     "metadata": {},
     "output_type": "execute_result"
    }
   ],
   "source": [
    "#Leitura do arquivo CSV da atividade, criando uma DataFrame utilizando 'DELIMITER' para sinalizar para o programa qual \n",
    "#caracter de separação deve ser considerado;\n",
    "df = pd.read_csv('customers_rating_ecore.csv' , delimiter = ';')\n",
    "\n",
    "#Criação DataFrame agrupado por Customer Id, e contagem de itens por Cust_Id;\n",
    "df = df.groupby(['Cust_Id']).count()\n",
    "\n",
    "#Criação de DataFrame apenas com duas colunas: Index (Cust_Id) e Movie_Id (contagem);\n",
    "df = df[['Movie_Id']]\n",
    "\n",
    "#\n",
    "df = (df.sort_values('Movie_Id' , ascending = False)).head()\n",
    "\n",
    "#Alteração do título da coluna de contagens de 'Movie_Id' para 'Nº of Reviews' visando \n",
    "#o melhor entendimento da informação;\n",
    "df = df.rename(columns={'Movie_Id': 'Nº of Reviews'})\n",
    "\n",
    "#Exposição dos dados solicitados pelo cliente;\n",
    "print ('Abaixo a tabela que mostra os Ids dos 5 principais avaliadores da lista (Cust_Id),')\n",
    "print ('e a quantidade de avaliações realizadas por cada avaliador (Nº of Reviews):')\n",
    "df\n"
   ]
  }
 ],
 "metadata": {
  "kernelspec": {
   "display_name": "Python 3 (ipykernel)",
   "language": "python",
   "name": "python3"
  },
  "language_info": {
   "codemirror_mode": {
    "name": "ipython",
    "version": 3
   },
   "file_extension": ".py",
   "mimetype": "text/x-python",
   "name": "python",
   "nbconvert_exporter": "python",
   "pygments_lexer": "ipython3",
   "version": "3.10.4"
  }
 },
 "nbformat": 4,
 "nbformat_minor": 5
}
