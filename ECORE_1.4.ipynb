{
 "cells": [
  {
   "cell_type": "code",
   "execution_count": 2,
   "id": "740f3b4d",
   "metadata": {},
   "outputs": [],
   "source": [
    "#Importação da biblioteca Pandas como 'pd' para utilização otimizada no código;\n",
    "import pandas as pd"
   ]
  },
  {
   "cell_type": "code",
   "execution_count": 3,
   "id": "bf0e5312",
   "metadata": {
    "scrolled": true
   },
   "outputs": [],
   "source": [
    "#Leitura do arquivo CSV da atividade, criando uma DataFrame utilizando 'DELIMITER' para sinalizar para o programa qual \n",
    "#caracter de separação deve ser considerado;\n",
    "la = pd.read_csv('customers_rating_ecore.csv', delimiter = ';')\n",
    "\n",
    "#Identificação das avaliações feitas por data;\n",
    "la = la.sort_values(by = ['Date'])\n",
    "\n",
    "#Criação de máscara para valor máximo da coluna 'Date'(última data registrada na lista);\n",
    "mask1 = la['Date'].max()\n",
    "\n",
    "#Criação de DataFrame apenas com avaliações feitas na última data registrada na lista e Movie Id;\n",
    "lb = la.loc[la['Date'] == mask1]\n",
    "\n",
    "#Criação de DataFrame com nota média de avaliação dos filmes na data selecionada;\n",
    "lb = lb.groupby(['Movie_Id']).mean()\n",
    "\n",
    "#DataFrame com nota média de avaliação dentro da data específica maiores que 4.7, conforme pedido do cliente;\n",
    "fl = lb.loc[lb['Rating'] >= 4.7]\n"
   ]
  },
  {
   "cell_type": "code",
   "execution_count": 5,
   "id": "d1d3f1c9",
   "metadata": {},
   "outputs": [
    {
     "name": "stdout",
     "output_type": "stream",
     "text": [
      "O Número de filmes que possuem avaliação média maior que 4.7, avaliados na última data de avaliação é 195\n"
     ]
    }
   ],
   "source": [
    "\n",
    "#Valor de 'a' Responde a pergunta de quantos filmes tem a \n",
    "#avlaiação média maior que 4.7, na ultima data de avaliação;\n",
    "a = len(fl)\n",
    "print (f'O Número de filmes que possuem avaliação média maior que 4.7, avaliados na última data de avaliação é {a}')\n"
   ]
  },
  {
   "cell_type": "code",
   "execution_count": null,
   "id": "b215f160",
   "metadata": {},
   "outputs": [],
   "source": []
  }
 ],
 "metadata": {
  "kernelspec": {
   "display_name": "Python 3 (ipykernel)",
   "language": "python",
   "name": "python3"
  },
  "language_info": {
   "codemirror_mode": {
    "name": "ipython",
    "version": 3
   },
   "file_extension": ".py",
   "mimetype": "text/x-python",
   "name": "python",
   "nbconvert_exporter": "python",
   "pygments_lexer": "ipython3",
   "version": "3.10.4"
  }
 },
 "nbformat": 4,
 "nbformat_minor": 5
}
